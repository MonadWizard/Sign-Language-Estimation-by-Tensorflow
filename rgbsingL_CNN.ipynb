{
 "cells": [
  {
   "cell_type": "code",
   "execution_count": 1,
   "metadata": {
    "collapsed": true
   },
   "outputs": [],
   "source": [
    "import numpy as np\n",
    "import os\n",
    "import glob\n",
    "import tensorflow as tf\n",
    "import math\n",
    "import matplotlib.pyplot as plt\n",
    "from PIL import Image"
   ]
  },
  {
   "cell_type": "code",
   "execution_count": 2,
   "metadata": {
    "collapsed": true
   },
   "outputs": [],
   "source": [
    "# Parameters\n",
    "learning_rate = 0.001\n",
    "training_iters = 100000\n",
    "batch_size = 128\n",
    "display_step = 10\n",
    "\n",
    "# Network Parameters\n",
    "n_input = 9000 # MNIST data input (img shape: 50*60*3)\n",
    "n_classes = 10 # MNIST total classes (0-9 digits)\n",
    "dropout = 0.75 # Dropout, probability to keep units"
   ]
  },
  {
   "cell_type": "code",
   "execution_count": 3,
   "metadata": {
    "collapsed": true
   },
   "outputs": [],
   "source": [
    "# tf Graph input\n",
    "x = tf.placeholder(tf.float32, [None, n_input], name = 'placeholder_x')\n",
    "y = tf.placeholder(tf.float32, [None, n_classes])\n",
    "keep_prob = tf.placeholder(tf.float32, name = 'keep_prob') #dropout (keep probability)"
   ]
  },
  {
   "cell_type": "code",
   "execution_count": 4,
   "metadata": {
    "collapsed": true
   },
   "outputs": [],
   "source": [
    "# Create model\n",
    "def conv2d(img, w, b):\n",
    "    return tf.nn.relu(tf.nn.bias_add(tf.nn.conv2d(img, w,strides=[1, 1, 1, 1],padding='VALID'),b))\n",
    "\n",
    "def max_pool(img, k):\n",
    "    return tf.nn.max_pool(img, ksize=[1, k, k, 1],strides=[1, k, k, 1],padding='VALID')"
   ]
  },
  {
   "cell_type": "code",
   "execution_count": 5,
   "metadata": {
    "collapsed": true
   },
   "outputs": [],
   "source": [
    "# Store layers weight & bias\n",
    "\n",
    "wc1 = tf.Variable(tf.random_normal([5, 5, 3, 32])) # 5x5 conv, 1 input, 32 outputs\n",
    "wc2 = tf.Variable(tf.random_normal([5, 5, 32, 64])) # 5x5 conv, 32 inputs, 64 outputs\n",
    "wd1 = tf.Variable(tf.random_normal([9*12*64, 1024])) # fully connected, 7*7*64 inputs, 1024 outputs\n",
    "wout = tf.Variable(tf.random_normal([1024, n_classes])) # 1024 inputs, 10 outputs (class prediction)\n",
    "\n",
    "\n",
    "bc1 = tf.Variable(tf.random_normal([32]))\n",
    "bc2 = tf.Variable(tf.random_normal([64]))\n",
    "bd1 = tf.Variable(tf.random_normal([1024]))\n",
    "bout = tf.Variable(tf.random_normal([n_classes]))"
   ]
  },
  {
   "cell_type": "code",
   "execution_count": 6,
   "metadata": {
    "collapsed": false
   },
   "outputs": [],
   "source": [
    "# Construct model\n",
    "_X = tf.reshape(x, shape=[-1, 50, 60, 3])\n",
    "\n",
    "\n",
    "# Convolution Layer\n",
    "conv1 = conv2d(_X,wc1,bc1)\n",
    "\n",
    "# Max Pooling (down-sampling)\n",
    "conv1 = max_pool(conv1, k=2)\n",
    "\n",
    "# Apply Dropout\n",
    "conv1 = tf.nn.dropout(conv1,keep_prob)\n",
    "\n",
    "\n",
    "# Convolution Layer\n",
    "conv2 = conv2d(conv1,wc2,bc2)\n",
    "\n",
    "# Max Pooling (down-sampling)\n",
    "conv2 = max_pool(conv2, k=2)\n",
    "\n",
    "# Apply Dropout\n",
    "conv2 = tf.nn.dropout(conv2, keep_prob)"
   ]
  },
  {
   "cell_type": "code",
   "execution_count": 7,
   "metadata": {
    "collapsed": false
   },
   "outputs": [],
   "source": [
    "# Fully connected layer\n",
    "dense1 = tf.reshape(conv2, [-1, wd1.get_shape().as_list()[0]]) # Reshape conv2 output to fit dense layer input\n",
    "dense1 = tf.nn.relu(tf.add(tf.matmul(dense1, wd1),bd1)) # Relu activation\n",
    "dense1 = tf.nn.dropout(dense1, keep_prob) # Apply Dropout\n",
    "\n",
    "# Output, class prediction\n",
    "with tf.name_scope(\"pred\"):\n",
    "    pred = tf.add(tf.matmul(dense1, wout), bout)\n",
    "\n",
    "#pred = conv_net(x, weights, biases, keep_prob)\n",
    "\n",
    "\n",
    "regularizers = (tf.nn.l2_loss(wc1) + tf.nn.l2_loss(bc1)+(tf.nn.l2_loss(wc2) + tf.nn.l2_loss(bc2))+\n",
    "                 (tf.nn.l2_loss(wd1) + tf.nn.l2_loss(bd1))+(tf.nn.l2_loss(wout) + tf.nn.l2_loss(bout)))\n",
    "\n",
    "# Define loss and optimizer\n",
    "cost = tf.reduce_mean(tf.nn.softmax_cross_entropy_with_logits(pred, y)) + 1e-6*regularizers\n",
    "optimizer = tf.train.AdamOptimizer(learning_rate=learning_rate).minimize(cost)\n",
    "\n",
    "# Evaluate model\n",
    "correct_pred = tf.equal(tf.argmax(pred,1), tf.argmax(y,1))\n",
    "accuracy = tf.reduce_mean(tf.cast(correct_pred, tf.float32))"
   ]
  },
  {
   "cell_type": "code",
   "execution_count": 8,
   "metadata": {
    "collapsed": true
   },
   "outputs": [],
   "source": [
    "def get_pic(filename):\n",
    "    img = Image.open(filename).convert('HSV')\n",
    "    img = img.resize((50,60), Image.BILINEAR)\n",
    "    arr = np.array(img)\n",
    "    ## make a 1-dimensional view of arr\n",
    "    flat_arr = arr.ravel()\n",
    "    flat_arr= flat_arr.reshape((1,9000))\n",
    "    return flat_arr"
   ]
  },
  {
   "cell_type": "code",
   "execution_count": 9,
   "metadata": {
    "collapsed": true
   },
   "outputs": [],
   "source": [
    "def get_label(filename):\n",
    "    if filename[17]=='0':\n",
    "        return np.array([1,0,0,0,0,0,0,0,0,0])\n",
    "    if filename[17]=='1':\n",
    "        return np.array([0,1,0,0,0,0,0,0,0,0])\n",
    "    if filename[17]=='2':\n",
    "        return np.array([0,0,1,0,0,0,0,0,0,0])\n",
    "    if filename[17]=='3':\n",
    "        return np.array([0,0,0,1,0,0,0,0,0,0])\n",
    "    if filename[17]=='4':\n",
    "        return np.array([0,0,0,0,1,0,0,0,0,0])\n",
    "    if filename[17]=='5':\n",
    "        return np.array([0,0,0,0,0,1,0,0,0,0])\n",
    "    if filename[17]=='6':\n",
    "        return np.array([0,0,0,0,0,0,1,0,0,0])\n",
    "    if filename[17]=='7':\n",
    "        return np.array([0,0,0,0,0,0,0,1,0,0])\n",
    "    if filename[17]=='8':\n",
    "        return np.array([0,0,0,0,0,0,0,0,1,0])\n",
    "    if filename[17]=='9':\n",
    "        return np.array([0,0,0,0,0,0,0,0,0,1])"
   ]
  },
  {
   "cell_type": "code",
   "execution_count": 10,
   "metadata": {
    "collapsed": true
   },
   "outputs": [],
   "source": [
    "def tget_label(filename):\n",
    "    if filename[16]=='0':\n",
    "        return np.array([1,0,0,0,0,0,0,0,0,0])\n",
    "    if filename[16]=='1':\n",
    "        return np.array([0,1,0,0,0,0,0,0,0,0])\n",
    "    if filename[16]=='2':\n",
    "        return np.array([0,0,1,0,0,0,0,0,0,0])\n",
    "    if filename[16]=='3':\n",
    "        return np.array([0,0,0,1,0,0,0,0,0,0])\n",
    "    if filename[16]=='4':\n",
    "        return np.array([0,0,0,0,1,0,0,0,0,0])\n",
    "    if filename[16]=='5':\n",
    "        return np.array([0,0,0,0,0,1,0,0,0,0])\n",
    "    if filename[16]=='6':\n",
    "        return np.array([0,0,0,0,0,0,1,0,0,0])\n",
    "    if filename[16]=='7':\n",
    "        return np.array([0,0,0,0,0,0,0,1,0,0])\n",
    "    if filename[16]=='8':\n",
    "        return np.array([0,0,0,0,0,0,0,0,1,0])\n",
    "    if filename[16]=='9':\n",
    "        return np.array([0,0,0,0,0,0,0,0,0,1])"
   ]
  },
  {
   "cell_type": "code",
   "execution_count": 11,
   "metadata": {
    "collapsed": true
   },
   "outputs": [],
   "source": [
    "def get_rank_pic(path,i):\n",
    "    first = True\n",
    "    for filename in glob.glob(os.path.join(path, '*.png'))[i:i+batch_size]:\n",
    "        if first==False:\n",
    "            rank_arr = flat_arr\n",
    "        flat_arr = get_pic(filename)\n",
    "        if first==False:\n",
    "            flat_arr = np.vstack((rank_arr, flat_arr))\n",
    "        first = False\n",
    "    return flat_arr"
   ]
  },
  {
   "cell_type": "code",
   "execution_count": 12,
   "metadata": {
    "collapsed": true
   },
   "outputs": [],
   "source": [
    "def get_rank_lable(path,i):\n",
    "    first = True\n",
    "    for filename in glob.glob(os.path.join(path, '*.png'))[i:i+batch_size]:\n",
    "        if first==False:\n",
    "            rank_label = flat_label\n",
    "        flat_label = get_label(filename)\n",
    "        flat_label = flat_label.reshape((1,10))\n",
    "        if first==False:\n",
    "            flat_label = np.vstack((rank_label, flat_label))\n",
    "        first = False\n",
    "    return flat_label"
   ]
  },
  {
   "cell_type": "code",
   "execution_count": 13,
   "metadata": {
    "collapsed": true
   },
   "outputs": [],
   "source": [
    "def tget_rank_lable(path,i):\n",
    "    first = True\n",
    "    for filename in glob.glob(os.path.join(path, '*.png'))[i:i+batch_size]:\n",
    "        if first==False:\n",
    "            rank_label = flat_label\n",
    "        flat_label = tget_label(filename)\n",
    "        flat_label = flat_label.reshape((1,10))\n",
    "        if first==False:\n",
    "            flat_label = np.vstack((rank_label, flat_label))\n",
    "        first = False\n",
    "    return flat_label"
   ]
  },
  {
   "cell_type": "code",
   "execution_count": 14,
   "metadata": {
    "collapsed": true
   },
   "outputs": [],
   "source": [
    "# Initializing the variables\n",
    "init = tf.global_variables_initializer()"
   ]
  },
  {
   "cell_type": "code",
   "execution_count": 15,
   "metadata": {
    "collapsed": false,
    "scrolled": false
   },
   "outputs": [
    {
     "name": "stdout",
     "output_type": "stream",
     "text": [
      "Iter 1280, Minibatch Loss= 6387220.500000, Training Accuracy= 0.23438\n",
      "Iter 2560, Minibatch Loss= 6887334.500000, Training Accuracy= 0.32812\n",
      "Iter 3840, Minibatch Loss= 3868294.000000, Training Accuracy= 0.46875\n",
      "Iter 5120, Minibatch Loss= 3380660.500000, Training Accuracy= 0.50000\n",
      "Iter 6400, Minibatch Loss= 2309599.500000, Training Accuracy= 0.54688\n",
      "Iter 7680, Minibatch Loss= 1881872.875000, Training Accuracy= 0.61719\n",
      "Iter 8960, Minibatch Loss= 1403372.750000, Training Accuracy= 0.66406\n",
      "Iter 10240, Minibatch Loss= 1081899.750000, Training Accuracy= 0.73438\n",
      "Iter 11520, Minibatch Loss= 916352.062500, Training Accuracy= 0.77344\n",
      "Iter 12800, Minibatch Loss= 754082.687500, Training Accuracy= 0.75781\n",
      "Iter 14080, Minibatch Loss= 700404.062500, Training Accuracy= 0.77344\n",
      "Iter 15360, Minibatch Loss= 493137.718750, Training Accuracy= 0.81250\n",
      "Iter 16640, Minibatch Loss= 499505.656250, Training Accuracy= 0.83594\n",
      "Iter 17920, Minibatch Loss= 388595.812500, Training Accuracy= 0.86719\n",
      "Iter 19200, Minibatch Loss= 305158.218750, Training Accuracy= 0.86719\n",
      "Iter 20480, Minibatch Loss= 290618.375000, Training Accuracy= 0.87500\n",
      "Iter 21760, Minibatch Loss= 213924.406250, Training Accuracy= 0.90625\n",
      "Iter 23040, Minibatch Loss= 285363.687500, Training Accuracy= 0.88281\n",
      "Iter 24320, Minibatch Loss= 290719.562500, Training Accuracy= 0.87500\n",
      "Iter 25600, Minibatch Loss= 278807.500000, Training Accuracy= 0.89062\n",
      "Iter 26880, Minibatch Loss= 217519.578125, Training Accuracy= 0.90625\n",
      "Iter 28160, Minibatch Loss= 209902.062500, Training Accuracy= 0.88281\n",
      "Iter 29440, Minibatch Loss= 165380.718750, Training Accuracy= 0.91406\n",
      "Iter 30720, Minibatch Loss= 180864.546875, Training Accuracy= 0.89844\n",
      "Iter 32000, Minibatch Loss= 113639.335938, Training Accuracy= 0.93750\n",
      "Iter 33280, Minibatch Loss= 127212.289062, Training Accuracy= 0.94531\n",
      "Iter 34560, Minibatch Loss= 135593.890625, Training Accuracy= 0.92969\n",
      "Iter 35840, Minibatch Loss= 80211.304688, Training Accuracy= 0.93750\n",
      "Iter 37120, Minibatch Loss= 184843.906250, Training Accuracy= 0.93750\n",
      "Iter 38400, Minibatch Loss= 253178.046875, Training Accuracy= 0.92188\n",
      "Iter 39680, Minibatch Loss= 255208.265625, Training Accuracy= 0.90625\n",
      "Iter 40960, Minibatch Loss= 187085.406250, Training Accuracy= 0.93750\n",
      "Iter 42240, Minibatch Loss= 160610.390625, Training Accuracy= 0.94531\n",
      "Iter 43520, Minibatch Loss= 172671.906250, Training Accuracy= 0.94531\n",
      "Iter 44800, Minibatch Loss= 131263.937500, Training Accuracy= 0.93750\n",
      "Iter 46080, Minibatch Loss= 117646.820312, Training Accuracy= 0.95312\n",
      "Iter 47360, Minibatch Loss= 102952.320312, Training Accuracy= 0.95312\n",
      "Iter 48640, Minibatch Loss= 159306.546875, Training Accuracy= 0.92969\n",
      "Iter 49920, Minibatch Loss= 135271.000000, Training Accuracy= 0.94531\n",
      "Iter 51200, Minibatch Loss= 90450.867188, Training Accuracy= 0.94531\n",
      "Iter 52480, Minibatch Loss= 114157.148438, Training Accuracy= 0.93750\n",
      "Iter 53760, Minibatch Loss= 177532.218750, Training Accuracy= 0.93750\n",
      "Iter 55040, Minibatch Loss= 180297.312500, Training Accuracy= 0.93750\n",
      "Iter 56320, Minibatch Loss= 130965.281250, Training Accuracy= 0.93750\n",
      "Iter 57600, Minibatch Loss= 117661.164062, Training Accuracy= 0.94531\n",
      "Iter 58880, Minibatch Loss= 106960.867188, Training Accuracy= 0.93750\n",
      "Iter 60160, Minibatch Loss= 200970.718750, Training Accuracy= 0.92188\n",
      "Iter 61440, Minibatch Loss= 123441.484375, Training Accuracy= 0.94531\n",
      "Iter 62720, Minibatch Loss= 107158.812500, Training Accuracy= 0.94531\n",
      "Iter 64000, Minibatch Loss= 72105.054688, Training Accuracy= 0.94531\n",
      "Iter 65280, Minibatch Loss= 41626.097656, Training Accuracy= 0.97656\n",
      "Iter 66560, Minibatch Loss= 34018.386719, Training Accuracy= 0.96875\n",
      "Iter 67840, Minibatch Loss= 35915.925781, Training Accuracy= 0.97656\n",
      "Iter 69120, Minibatch Loss= 51530.316406, Training Accuracy= 0.96875\n",
      "Iter 70400, Minibatch Loss= 96106.953125, Training Accuracy= 0.95312\n",
      "Iter 71680, Minibatch Loss= 138599.312500, Training Accuracy= 0.95312\n",
      "Iter 72960, Minibatch Loss= 172387.000000, Training Accuracy= 0.92969\n",
      "Iter 74240, Minibatch Loss= 147588.515625, Training Accuracy= 0.95312\n",
      "Iter 75520, Minibatch Loss= 131965.796875, Training Accuracy= 0.96094\n",
      "Iter 76800, Minibatch Loss= 101216.421875, Training Accuracy= 0.96875\n",
      "Iter 78080, Minibatch Loss= 71768.750000, Training Accuracy= 0.96875\n",
      "Iter 79360, Minibatch Loss= 51971.835938, Training Accuracy= 0.96875\n",
      "Iter 80640, Minibatch Loss= 32601.478516, Training Accuracy= 0.98438\n",
      "Iter 81920, Minibatch Loss= 65772.476562, Training Accuracy= 0.97656\n",
      "Iter 83200, Minibatch Loss= 74391.125000, Training Accuracy= 0.96094\n",
      "Iter 84480, Minibatch Loss= 78937.023438, Training Accuracy= 0.94531\n",
      "Iter 85760, Minibatch Loss= 43215.714844, Training Accuracy= 0.96094\n",
      "Iter 87040, Minibatch Loss= 9232.683594, Training Accuracy= 0.98438\n",
      "Iter 88320, Minibatch Loss= 57940.125000, Training Accuracy= 0.98438\n",
      "Iter 89600, Minibatch Loss= 39954.183594, Training Accuracy= 0.99219\n",
      "Iter 90880, Minibatch Loss= 130242.187500, Training Accuracy= 0.97656\n",
      "Iter 92160, Minibatch Loss= 127267.179688, Training Accuracy= 0.96875\n",
      "Iter 93440, Minibatch Loss= 88184.625000, Training Accuracy= 0.96875\n",
      "Iter 94720, Minibatch Loss= 62935.457031, Training Accuracy= 0.98438\n",
      "Iter 96000, Minibatch Loss= 145114.062500, Training Accuracy= 0.97656\n",
      "Iter 97280, Minibatch Loss= 105782.695312, Training Accuracy= 0.97656\n",
      "Iter 98560, Minibatch Loss= 111674.789062, Training Accuracy= 0.96875\n",
      "Iter 99840, Minibatch Loss= 100432.601562, Training Accuracy= 0.96094\n",
      "Optimization Finished!\n",
      "Testing Accuracy: 0.9\n"
     ]
    }
   ],
   "source": [
    "# Launch the graph\n",
    "path = 'rgbdata/training'\n",
    "saver = tf.train.Saver()\n",
    "sess=tf.Session()\n",
    "sess.run(init)\n",
    "step = 1\n",
    "# Keep training until reach max iterations\n",
    "while step * batch_size < training_iters:\n",
    "    flat_arr = get_rank_pic(path,step)\n",
    "    flat_label = get_rank_lable(path,step)\n",
    "    #print flat_arr.shape\n",
    "    #print flat_label.shape\n",
    "    batch_xs = flat_arr\n",
    "    batch_ys = flat_label\n",
    "    # Fit training using batch data\n",
    "    sess.run(optimizer, feed_dict={x: batch_xs, y: batch_ys, keep_prob: dropout})\n",
    "    if step % display_step == 0:\n",
    "        # Calculate batch accuracy\n",
    "        acc = sess.run(accuracy, feed_dict={x: batch_xs, y: batch_ys, keep_prob: 1.})\n",
    "        # Calculate batch loss\n",
    "        loss = sess.run(cost, feed_dict={x: batch_xs, y: batch_ys, keep_prob: 1.})\n",
    "        print \"Iter \" + str(step*batch_size) + \", Minibatch Loss= \" + \"{:.6f}\".format(loss) + \", Training Accuracy= \" + \"{:.5f}\".format(acc)\n",
    "    step += 1\n",
    "print \"Optimization Finished!\"\n",
    "# Test model\n",
    "test_images = get_rank_pic('rgbdata/testing',0)\n",
    "test_labels = tget_rank_lable('rgbdata/testing',0)\n",
    "# Calculate accuracy for 256 mnist test images\n",
    "print \"Testing Accuracy:\", sess.run(accuracy, feed_dict={x: test_images, y: test_labels, keep_prob: 1.})"
   ]
  },
  {
   "cell_type": "code",
   "execution_count": 16,
   "metadata": {
    "collapsed": false
   },
   "outputs": [
    {
     "data": {
      "text/plain": [
       "'rgbcnnmodel'"
      ]
     },
     "execution_count": 16,
     "metadata": {},
     "output_type": "execute_result"
    }
   ],
   "source": [
    "saver.save(sess, 'rgbcnnmodel')"
   ]
  },
  {
   "cell_type": "code",
   "execution_count": 17,
   "metadata": {
    "collapsed": false
   },
   "outputs": [],
   "source": [
    "def testing(filename):\n",
    "    stest_images = get_pic(filename)\n",
    "    print sess.run(tf.argmax(pred,1), feed_dict={x: stest_images, keep_prob: 1.})"
   ]
  },
  {
   "cell_type": "code",
   "execution_count": 18,
   "metadata": {
    "collapsed": false
   },
   "outputs": [
    {
     "data": {
      "text/plain": [
       "<tf.Tensor 'pred/Add:0' shape=(?, 10) dtype=float32>"
      ]
     },
     "execution_count": 18,
     "metadata": {},
     "output_type": "execute_result"
    }
   ],
   "source": [
    "pred"
   ]
  },
  {
   "cell_type": "code",
   "execution_count": 19,
   "metadata": {
    "collapsed": false
   },
   "outputs": [
    {
     "name": "stdout",
     "output_type": "stream",
     "text": [
      "[2]\n"
     ]
    }
   ],
   "source": [
    "filename = 'rgbdata/testing/2_216.png'\n",
    "testing(filename)"
   ]
  },
  {
   "cell_type": "code",
   "execution_count": null,
   "metadata": {
    "collapsed": true
   },
   "outputs": [],
   "source": []
  }
 ],
 "metadata": {
  "kernelspec": {
   "display_name": "Python 2",
   "language": "python",
   "name": "python2"
  },
  "language_info": {
   "codemirror_mode": {
    "name": "ipython",
    "version": 2
   },
   "file_extension": ".py",
   "mimetype": "text/x-python",
   "name": "python",
   "nbconvert_exporter": "python",
   "pygments_lexer": "ipython2",
   "version": "2.7.12"
  }
 },
 "nbformat": 4,
 "nbformat_minor": 2
}
